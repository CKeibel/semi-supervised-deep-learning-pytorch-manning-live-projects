{
 "cells": [
  {
   "cell_type": "code",
   "execution_count": 1,
   "id": "d234419f-5566-4167-8bb8-04e55e6f91c4",
   "metadata": {},
   "outputs": [],
   "source": [
    "import torch\n",
    "import torch.nn as nn\n",
    "import torch.optim as optim\n",
    "import torch.functional as F\n",
    "from torch.utils.data import Dataset, DataLoader\n",
    "from torchvision.io import read_image"
   ]
  },
  {
   "cell_type": "code",
   "execution_count": 2,
   "id": "22aa5f20-99a8-4bdb-9cb1-8551a4c08725",
   "metadata": {},
   "outputs": [
    {
     "data": {
      "text/plain": [
       "<torch._C.Generator at 0x1945bba2d90>"
      ]
     },
     "execution_count": 2,
     "metadata": {},
     "output_type": "execute_result"
    }
   ],
   "source": [
    "torch.manual_seed(1)"
   ]
  },
  {
   "cell_type": "markdown",
   "id": "9fd9622d-e4eb-4ad6-8d7b-942169162c89",
   "metadata": {},
   "source": [
    "# Load data and create dataset"
   ]
  },
  {
   "cell_type": "code",
   "execution_count": 3,
   "id": "3986d9df-b0e0-497d-9d7c-9585d381acf5",
   "metadata": {},
   "outputs": [],
   "source": [
    "import glob\n",
    "\n",
    "base_data_path = \"./MelanomaDetectionLabeled/MelanomaDetectionLabeled/\""
   ]
  },
  {
   "cell_type": "code",
   "execution_count": 4,
   "id": "54aa69f3-e058-4488-abd2-309fbe34adf3",
   "metadata": {},
   "outputs": [],
   "source": [
    "x_train = []\n",
    "y_train = []\n",
    "\n",
    "for img in glob.glob(f\"{base_data_path}/labeled/*.jpg\"):\n",
    "    _x = read_image(img)\n",
    "    _y = int(img.split(\".\")[1][-1])\n",
    "    x_train.append(_x)\n",
    "    y_train.append(_y)"
   ]
  },
  {
   "cell_type": "code",
   "execution_count": 5,
   "id": "d9cab2bc-0965-49a2-a28c-b545f89dc6f8",
   "metadata": {},
   "outputs": [],
   "source": [
    "x_test = []\n",
    "y_test = []\n",
    "\n",
    "for img in glob.glob(f\"{base_data_path}/test/*.jpg\"):\n",
    "    _x = read_image(img)\n",
    "    _y = int(img.split(\".\")[1][-1])\n",
    "    x_test.append(_x)\n",
    "    y_test.append(_y)"
   ]
  },
  {
   "cell_type": "code",
   "execution_count": 6,
   "id": "8986ed1d-3c3a-4f83-beed-98f0db418127",
   "metadata": {},
   "outputs": [],
   "source": [
    "from torchvision.transforms import v2\n",
    "\n",
    "class Melanoma(Dataset):\n",
    "    def __init__(self, x, y):\n",
    "        super(Melanoma, self).__init__()\n",
    "        self.x = x\n",
    "        self.y = y\n",
    "\n",
    "    def __len__(self):\n",
    "        return len(self.x)\n",
    "\n",
    "    def __getitem__(self, idx):\n",
    "        transform = v2.Compose([v2.ToTensor()])\n",
    "\n",
    "        x = transform(self.x[idx]).to(torch.float32)\n",
    "        return x, self.y[idx]"
   ]
  },
  {
   "cell_type": "code",
   "execution_count": 7,
   "id": "9ba3da06-505f-4ab0-842c-0502f46d4687",
   "metadata": {},
   "outputs": [],
   "source": [
    "train_data = Melanoma(x_train, y_train)\n",
    "trainloader = DataLoader(train_data, shuffle=True, batch_size=64)"
   ]
  },
  {
   "cell_type": "code",
   "execution_count": 32,
   "id": "684957ad-89d7-47cc-ae54-57345350fe14",
   "metadata": {},
   "outputs": [
    {
     "data": {
      "image/png": "[encoded data removed]",
      "text/plain": [
       "<Figure size 640x480 with 4 Axes>"
      ]
     },
     "metadata": {},
     "output_type": "display_data"
    }
   ],
   "source": [
    "import matplotlib.pyplot as plt\n",
    "\n",
    "samples = next(iter(trainloader))[0][:4, :, :, :].to(int)\n",
    "\n",
    "fig, ax = plt.subplots(1, 4)\n",
    "\n",
    "for i, img in enumerate(samples):\n",
    "    ax[i].imshow(torch.moveaxis(img, 0, -1))"
   ]
  },
  {
   "cell_type": "code",
   "execution_count": 9,
   "id": "664662c6-3ef9-4542-9141-2ec4bc4c7c6c",
   "metadata": {},
   "outputs": [],
   "source": [
    "class ConvBlock(nn.Module):\n",
    "    def __init__(self, in_channels, out_channels, kernel_size, pooling):\n",
    "        super(ConvBlock, self).__init__()\n",
    "        self.conv = nn.Conv2d(in_channels=in_channels, out_channels=out_channels, kernel_size=kernel_size, stride=1)\n",
    "        self.relu = nn.ReLU()\n",
    "        self.pool = nn.MaxPool2d(pooling)\n",
    "        self.modules = [self.conv, self.relu, self.pool]\n",
    "\n",
    "    def forward(self, x):\n",
    "        for l in self.modules:\n",
    "            x = l(x)\n",
    "        return x"
   ]
  },
  {
   "cell_type": "code",
   "execution_count": 10,
   "id": "e051b5f8-2526-4689-ba76-9876dd0faa86",
   "metadata": {},
   "outputs": [],
   "source": [
    "class LinearBlock(nn.Module):\n",
    "    def __init__(self, in_features, out_features, dropout):\n",
    "        super(LinearBlock, self).__init__()\n",
    "        self.linear = nn.Linear(in_features, out_features)\n",
    "        self.relu = nn.ReLU()\n",
    "        self.dropout = nn.Dropout(dropout)\n",
    "        self.modules = [self.linear, self.relu, self.dropout]\n",
    "\n",
    "    def forward(self, x):\n",
    "        for l in self.modules:\n",
    "            x = l(x)\n",
    "        return x"
   ]
  },
  {
   "cell_type": "code",
   "execution_count": 11,
   "id": "42e12bf2-01d9-4e95-ab9b-1a77e017c81c",
   "metadata": {},
   "outputs": [],
   "source": [
    "class Model(nn.Module):\n",
    "    def __init__(self):\n",
    "        super(Model, self).__init__()\n",
    "        self.conv1 = ConvBlock(3, 32, 3, 2) # 32x30x30 --pool--> 32x15x15\n",
    "        self.conv2 = ConvBlock(32, 64, 3, 2) # 64x13x13 --pool--> 64x7x7\n",
    "        self.conv3 = ConvBlock(64, 16, 2, 2) # 16x6x6 --pool--> 16x2x2\n",
    "        self.flatten = nn.Flatten()\n",
    "        self.linear1 = LinearBlock((16*2*2), 100, 0.3)\n",
    "        self.linear2 = LinearBlock(100, 64, 0.3)\n",
    "        self.linear3 = LinearBlock(64, 16, 0.2)\n",
    "        self.linear4 = nn.Linear(16, 1)\n",
    "        self.sigmoid = torch.sigmoid\n",
    "        self.modules = [\n",
    "            self.conv1, self.conv2, self.conv3, self.flatten, self.linear1, self.linear2, self.linear3, self.linear4, self.sigmoid\n",
    "        ]\n",
    "\n",
    "    def forward(self, x):\n",
    "        for l in self.modules:\n",
    "            x = l(x)\n",
    "        return x"
   ]
  },
  {
   "cell_type": "code",
   "execution_count": 12,
   "id": "1ad0322a-29fc-4209-b1a9-c18da691f6d9",
   "metadata": {},
   "outputs": [
    {
     "data": {
      "text/plain": [
       "device(type='cuda')"
      ]
     },
     "execution_count": 12,
     "metadata": {},
     "output_type": "execute_result"
    }
   ],
   "source": [
    "device = torch.device(\"cuda\" if torch.cuda.is_available() else \"cpu\")\n",
    "device"
   ]
  },
  {
   "cell_type": "code",
   "execution_count": 22,
   "id": "10e25a22-e11e-4e64-ac4f-dc3a80d9988f",
   "metadata": {},
   "outputs": [],
   "source": [
    "model = Model().to(device)\n",
    "optimizer = optim.Adam(model.parameters(), lr=0.0002)\n",
    "loss_fn = nn.BCELoss()"
   ]
  },
  {
   "cell_type": "code",
   "execution_count": 24,
   "id": "95fd25f7-1ae2-4558-9168-40d42741c9b5",
   "metadata": {},
   "outputs": [
    {
     "name": "stdout",
     "output_type": "stream",
     "text": [
      "1 - Loss: 0.5095296204090118 - Acc: 0.7299999594688416 \n",
      "2 - Loss: 0.4854995161294937 - Acc: 0.7649999856948853 \n",
      "3 - Loss: 0.4851443022489548 - Acc: 0.7649999856948853 \n",
      "4 - Loss: 0.4387097507715225 - Acc: 0.73499995470047 \n",
      "5 - Loss: 0.43408646434545517 - Acc: 0.7799999713897705 \n",
      "6 - Loss: 0.45277610421180725 - Acc: 0.7699999809265137 \n",
      "7 - Loss: 0.3711507134139538 - Acc: 0.7849999666213989 \n",
      "8 - Loss: 0.4330637454986572 - Acc: 0.7699999809265137 \n",
      "9 - Loss: 0.6233578622341156 - Acc: 0.7299999594688416 \n",
      "10 - Loss: 0.48996593803167343 - Acc: 0.7549999952316284 \n",
      "11 - Loss: 0.4519329071044922 - Acc: 0.7999999523162842 \n",
      "12 - Loss: 0.5297395214438438 - Acc: 0.7450000047683716 \n",
      "13 - Loss: 0.4341745600104332 - Acc: 0.7949999570846558 \n",
      "14 - Loss: 0.4604657366871834 - Acc: 0.7699999809265137 \n",
      "15 - Loss: 0.42432503402233124 - Acc: 0.7699999809265137 \n",
      "16 - Loss: 0.4706873372197151 - Acc: 0.7799999713897705 \n",
      "17 - Loss: 0.41289833188056946 - Acc: 0.8149999976158142 \n",
      "18 - Loss: 0.41933953762054443 - Acc: 0.7899999618530273 \n",
      "19 - Loss: 0.4382096230983734 - Acc: 0.8100000023841858 \n",
      "20 - Loss: 0.4135979637503624 - Acc: 0.8199999928474426 \n",
      "21 - Loss: 0.4114367961883545 - Acc: 0.8149999976158142 \n",
      "22 - Loss: 0.43777619302272797 - Acc: 0.7799999713897705 \n",
      "23 - Loss: 0.5560392141342163 - Acc: 0.75 \n",
      "24 - Loss: 0.41567932069301605 - Acc: 0.7649999856948853 \n",
      "25 - Loss: 0.45422983914613724 - Acc: 0.7849999666213989 \n",
      "26 - Loss: 0.4171072691679001 - Acc: 0.7749999761581421 \n",
      "27 - Loss: 0.4279393330216408 - Acc: 0.7699999809265137 \n",
      "28 - Loss: 0.3675461895763874 - Acc: 0.8050000071525574 \n",
      "29 - Loss: 0.3688703738152981 - Acc: 0.7849999666213989 \n",
      "30 - Loss: 0.42271730303764343 - Acc: 0.7999999523162842 \n",
      "31 - Loss: 0.4472863972187042 - Acc: 0.8050000071525574 \n",
      "32 - Loss: 0.4193786084651947 - Acc: 0.8199999928474426 \n",
      "33 - Loss: 0.4095269739627838 - Acc: 0.8100000023841858 \n",
      "34 - Loss: 0.368671715259552 - Acc: 0.8149999976158142 \n",
      "35 - Loss: 0.3885595351457596 - Acc: 0.8149999976158142 \n",
      "36 - Loss: 0.5170861929655075 - Acc: 0.8100000023841858 \n",
      "37 - Loss: 0.36421075463294983 - Acc: 0.8199999928474426 \n",
      "38 - Loss: 0.3951701819896698 - Acc: 0.8399999737739563 \n",
      "39 - Loss: 0.3544479012489319 - Acc: 0.8299999833106995 \n",
      "40 - Loss: 0.39198537915945053 - Acc: 0.8799999952316284 \n",
      "41 - Loss: 0.3632963001728058 - Acc: 0.8449999690055847 \n",
      "42 - Loss: 0.3220136761665344 - Acc: 0.824999988079071 \n",
      "43 - Loss: 0.3761719614267349 - Acc: 0.85999995470047 \n",
      "44 - Loss: 0.34575362503528595 - Acc: 0.85999995470047 \n",
      "45 - Loss: 0.3017062619328499 - Acc: 0.8949999809265137 \n",
      "46 - Loss: 0.38219957053661346 - Acc: 0.8349999785423279 \n",
      "47 - Loss: 0.2941582277417183 - Acc: 0.85999995470047 \n",
      "48 - Loss: 0.3565156012773514 - Acc: 0.8799999952316284 \n",
      "49 - Loss: 0.3215774595737457 - Acc: 0.8299999833106995 \n",
      "50 - Loss: 0.2695935145020485 - Acc: 0.8799999952316284 \n",
      "51 - Loss: 0.3085973560810089 - Acc: 0.8199999928474426 \n",
      "52 - Loss: 0.3031844273209572 - Acc: 0.85999995470047 \n",
      "53 - Loss: 0.3526030704379082 - Acc: 0.8449999690055847 \n",
      "54 - Loss: 0.34299109876155853 - Acc: 0.8349999785423279 \n",
      "55 - Loss: 0.3325362056493759 - Acc: 0.8499999642372131 \n",
      "56 - Loss: 0.30963824689388275 - Acc: 0.85999995470047 \n",
      "57 - Loss: 0.25806280598044395 - Acc: 0.875 \n",
      "58 - Loss: 0.39248335361480713 - Acc: 0.875 \n",
      "59 - Loss: 0.34593477845191956 - Acc: 0.8650000095367432 \n",
      "60 - Loss: 0.3251930922269821 - Acc: 0.8549999594688416 \n",
      "61 - Loss: 0.26511021330952644 - Acc: 0.8899999856948853 \n",
      "62 - Loss: 0.22329704836010933 - Acc: 0.8949999809265137 \n",
      "63 - Loss: 0.23384586349129677 - Acc: 0.8899999856948853 \n",
      "64 - Loss: 0.29824813082814217 - Acc: 0.8449999690055847 \n",
      "65 - Loss: 0.3255200535058975 - Acc: 0.85999995470047 \n",
      "66 - Loss: 0.3870993033051491 - Acc: 0.8100000023841858 \n",
      "67 - Loss: 0.37211620435118675 - Acc: 0.8499999642372131 \n",
      "68 - Loss: 0.2985946834087372 - Acc: 0.8650000095367432 \n",
      "69 - Loss: 0.3628689646720886 - Acc: 0.7949999570846558 \n",
      "70 - Loss: 0.332290455698967 - Acc: 0.8700000047683716 \n",
      "71 - Loss: 0.32862089946866035 - Acc: 0.8399999737739563 \n",
      "72 - Loss: 0.3128264248371124 - Acc: 0.8549999594688416 \n",
      "73 - Loss: 0.31293879821896553 - Acc: 0.8799999952316284 \n",
      "74 - Loss: 0.28551506251096725 - Acc: 0.9199999570846558 \n",
      "75 - Loss: 0.2758397236466408 - Acc: 0.9099999666213989 \n",
      "76 - Loss: 0.18508085794746876 - Acc: 0.9099999666213989 \n",
      "77 - Loss: 0.2584691047668457 - Acc: 0.8549999594688416 \n",
      "78 - Loss: 0.2051987275481224 - Acc: 0.9199999570846558 \n",
      "79 - Loss: 0.2541828975081444 - Acc: 0.9099999666213989 \n",
      "80 - Loss: 0.32260916382074356 - Acc: 0.8799999952316284 \n",
      "81 - Loss: 0.27265214174985886 - Acc: 0.8700000047683716 \n",
      "82 - Loss: 0.30470988899469376 - Acc: 0.8549999594688416 \n",
      "83 - Loss: 0.28541167452931404 - Acc: 0.875 \n",
      "84 - Loss: 0.2937610596418381 - Acc: 0.85999995470047 \n",
      "85 - Loss: 0.2564166560769081 - Acc: 0.8999999761581421 \n",
      "86 - Loss: 0.2099007423967123 - Acc: 0.8899999856948853 \n",
      "87 - Loss: 0.2651560455560684 - Acc: 0.8799999952316284 \n",
      "88 - Loss: 0.2167808897793293 - Acc: 0.9399999976158142 \n",
      "89 - Loss: 0.268630787730217 - Acc: 0.8799999952316284 \n",
      "90 - Loss: 0.26275142654776573 - Acc: 0.8999999761581421 \n",
      "91 - Loss: 0.27694668993353844 - Acc: 0.9149999618530273 \n",
      "92 - Loss: 0.1877368874847889 - Acc: 0.9300000071525574 \n",
      "93 - Loss: 0.29682499170303345 - Acc: 0.8949999809265137 \n",
      "94 - Loss: 0.2573070526123047 - Acc: 0.9049999713897705 \n",
      "95 - Loss: 0.196245938539505 - Acc: 0.9449999928474426 \n",
      "96 - Loss: 0.38708046823740005 - Acc: 0.8549999594688416 \n",
      "97 - Loss: 0.529463030397892 - Acc: 0.7849999666213989 \n",
      "98 - Loss: 0.36625874787569046 - Acc: 0.8949999809265137 \n",
      "99 - Loss: 0.36694472283124924 - Acc: 0.824999988079071 \n",
      "100 - Loss: 0.2869463190436363 - Acc: 0.8899999856948853 \n"
     ]
    }
   ],
   "source": [
    "import numpy as np\n",
    "\n",
    "num_epochs = 100\n",
    "\n",
    "for epoch in range(num_epochs):\n",
    "    losses = []\n",
    "    correct = 0\n",
    "    samples = 0\n",
    "    for x, y in trainloader:\n",
    "        x = x.to(device)\n",
    "        y = y.view(len(y), 1).to(torch.float32).to(device)\n",
    "        pred = model(x)\n",
    "        loss = loss_fn(pred, y)\n",
    "        optimizer.zero_grad()\n",
    "        loss.backward()\n",
    "        optimizer.step()\n",
    "\n",
    "        losses.append(loss.item())\n",
    "        samples += len(y)\n",
    "        correct += (pred.round() == y).sum()\n",
    "    print(f\"{epoch+1} - Loss: {np.mean(losses)} - Acc: {correct/samples} \")"
   ]
  }
 ],
 "metadata": {
  "kernelspec": {
   "display_name": ".torch",
   "language": "python",
   "name": ".torch"
  },
  "language_info": {
   "codemirror_mode": {
    "name": "ipython",
    "version": 3
   },
   "file_extension": ".py",
   "mimetype": "text/x-python",
   "name": "python",
   "nbconvert_exporter": "python",
   "pygments_lexer": "ipython3",
   "version": "3.11.0"
  }
 },
 "nbformat": 4,
 "nbformat_minor": 5
}
